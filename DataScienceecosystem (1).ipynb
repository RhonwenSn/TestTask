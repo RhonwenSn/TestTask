{
 "cells": [
  {
   "cell_type": "markdown",
   "id": "27cd3e11-2907-48e3-a609-808836314e78",
   "metadata": {
    "tags": []
   },
   "source": [
    "# Data Science Tools and Ecosystem"
   ]
  },
  {
   "cell_type": "markdown",
   "id": "f6a3fca7-9286-401a-bdef-b5cb81a87555",
   "metadata": {},
   "source": [
    "In this notebook, Data Science Tools and Ecosystem are summarized."
   ]
  },
  {
   "cell_type": "markdown",
   "id": "66bce67c-4d58-4c1b-8e70-783da211a037",
   "metadata": {},
   "source": [
    "***Objectives***\n",
    "- List of popular languages for Data Science\n",
    "- List of commonly used Libraries used by Data Scientists\n",
    "- Data Science Tools\n",
    "- Examples of simple arithmetic expressions in Python\n",
    "- Author"
   ]
  },
  {
   "cell_type": "markdown",
   "id": "0fa023a9-eac0-4724-81ae-3295048402ed",
   "metadata": {},
   "source": [
    "Some of the popular languages that Data Scientist use are:\n",
    "1. Python\n",
    "2. Java\n",
    "3. C++"
   ]
  },
  {
   "cell_type": "markdown",
   "id": "e8c96493-e25d-4341-acfc-e3d004dd5d5a",
   "metadata": {},
   "source": [
    "Some of the commonly used libraries used by Data Scientists include:\n",
    "1. NumPy\n",
    "2. Keras\n",
    "3. Pandas"
   ]
  },
  {
   "cell_type": "markdown",
   "id": "6cbc891d-865f-44be-8a74-56cc5ec13296",
   "metadata": {},
   "source": [
    "| Data Science Tools |\n",
    "| ------- |\n",
    "| Jupyter Notebook |\n",
    "| Apache Spark |\n",
    "| RStudio |"
   ]
  },
  {
   "cell_type": "markdown",
   "id": "8a8da9c5-61f7-4d74-bacc-9d714eab489a",
   "metadata": {
    "tags": []
   },
   "source": [
    "### H3 Below are are few examples of evaulating arithmetic expression in Python"
   ]
  },
  {
   "cell_type": "code",
   "execution_count": 5,
   "id": "2921c1c5-b6d4-4077-8f3d-7521667d12d6",
   "metadata": {
    "tags": []
   },
   "outputs": [
    {
     "data": {
      "text/plain": [
       "17"
      ]
     },
     "execution_count": 5,
     "metadata": {},
     "output_type": "execute_result"
    }
   ],
   "source": [
    "#This is a simple arithmetic expression to multiply and then add integers\n",
    "(3*4)+5"
   ]
  },
  {
   "cell_type": "code",
   "execution_count": 6,
   "id": "d6d0b768-9b2a-433b-972a-2adbae3444ad",
   "metadata": {
    "tags": []
   },
   "outputs": [
    {
     "data": {
      "text/plain": [
       "3.3333333333333335"
      ]
     },
     "execution_count": 6,
     "metadata": {},
     "output_type": "execute_result"
    }
   ],
   "source": [
    "#This will convert 200 minutes to hours by dividing by 60\n",
    "200/60"
   ]
  },
  {
   "cell_type": "markdown",
   "id": "bb823e1a-ac0a-4713-9c58-ea14992ab98e",
   "metadata": {},
   "source": [
    "## H2 Author\n",
    "Rhonwen Welcome"
   ]
  },
  {
   "cell_type": "code",
   "execution_count": null,
   "id": "e5dbaede-1ebb-4987-861c-cf990b71e95f",
   "metadata": {},
   "outputs": [],
   "source": []
  }
 ],
 "metadata": {
  "kernelspec": {
   "display_name": "Python",
   "language": "python",
   "name": "conda-env-python-py"
  },
  "language_info": {
   "codemirror_mode": {
    "name": "ipython",
    "version": 3
   },
   "file_extension": ".py",
   "mimetype": "text/x-python",
   "name": "python",
   "nbconvert_exporter": "python",
   "pygments_lexer": "ipython3",
   "version": "3.7.12"
  }
 },
 "nbformat": 4,
 "nbformat_minor": 5
}
